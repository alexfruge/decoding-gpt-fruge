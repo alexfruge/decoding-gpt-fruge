{
 "cells": [
  {
   "cell_type": "code",
   "execution_count": 4,
   "metadata": {},
   "outputs": [],
   "source": [
    "from pathlib import Path\n",
    "import requests\n",
    "import unicodedata\n",
    "import json\n",
    "from collections import Counter, defaultdict\n",
    "import base64\n",
    "\n",
    "from IPython.display import Image, display\n",
    "import torch\n",
    "import numpy as np\n",
    "from jaxtyping import Int, Float\n",
    "import matplotlib.pyplot as plt\n",
    "import transformers\n",
    "import transformer_lens\n",
    "\n",
    "from utils.get_books import get_gutenberg_book, get_many_books\n",
    "from utils.analyze_vocab import analyze_vocab\n",
    "\n",
    "def mm(graph):\n",
    "  \"\"\"for plotting mermaid.js diagrams\"\"\"\n",
    "  graphbytes = graph.encode(\"ascii\")\n",
    "  base64_bytes = base64.b64encode(graphbytes)\n",
    "  base64_string = base64_bytes.decode(\"ascii\")\n",
    "  display(\n",
    "    Image(\n",
    "      url=\"https://mermaid.ink/img/\"\n",
    "      + base64_string\n",
    "    )\n",
    "  )\n"
   ]
  },
  {
   "cell_type": "code",
   "execution_count": 5,
   "metadata": {},
   "outputs": [],
   "source": [
    "# magic auto-reload for local development\n",
    "%load_ext autoreload\n",
    "%autoreload 2"
   ]
  },
  {
   "cell_type": "markdown",
   "metadata": {},
   "source": [
    "to install required packages:\n",
    "```\n",
    "pip install -r requirements.txt\n",
    "```"
   ]
  },
  {
   "cell_type": "markdown",
   "metadata": {},
   "source": [
    "# overview\n",
    "\n",
    "- review:\n",
    "\t- tokenization\n",
    "\t- markov chains (bigrams)\n",
    "\t- n-grams\n",
    "\t- RNNs\n",
    "- sparsity & homework\n",
    "- attention"
   ]
  },
  {
   "cell_type": "markdown",
   "metadata": {},
   "source": [
    "# Review\n"
   ]
  },
  {
   "cell_type": "markdown",
   "metadata": {},
   "source": [
    "\n",
    "## Tokenization\n",
    "\n",
    "- We start with a collection of text -- these are just strings of characters\n",
    "- to feed it into a machine learning model, we need to convert it into a sequence of numbers\n",
    "- this can be done a few ways:"
   ]
  },
  {
   "cell_type": "code",
   "execution_count": 6,
   "metadata": {},
   "outputs": [
    {
     "name": "stdout",
     "output_type": "stream",
     "text": [
      ", to word my phrase\n",
      "\n",
      "more characteristically, of advancement in his profession. He is an\n",
      "\n",
      "Englishman, and in the midst of national and professional prejudices,\n",
      "\n",
      "unsoftened by cultivation, retains some of the noblest endowments of\n",
      "\n",
      "humanity. I first became acquainted with him on board a whale vessel;\n",
      "\n",
      "finding that he was unemployed in this city, I easily engaged him to assist\n",
      "\n",
      "in my enterprise.\n",
      "\n",
      "\n",
      "\n",
      "The master is a person of an excellent disposition and is remarkable in the\n",
      "\n",
      "ship for his gentleness and the mildness of his discipline. This\n",
      "\n",
      "circumstance, added to his well-known integrity and dauntless courage, made\n",
      "\n",
      "me very desirous to engage him. A youth passed in solitude, my best years\n",
      "\n",
      "spent under your gentle and feminine fosterage, has so refined the\n",
      "\n",
      "groundwork of my character that I cannot overcome an intense distaste to\n",
      "\n",
      "the usual brutality exercised on board ship: I have never believed it to be\n",
      "\n",
      "necessary, and when I heard of a mariner equally noted for his kindliness\n",
      "\n",
      "of heart an\n"
     ]
    }
   ],
   "source": [
    "# first, let's get some text to work with\n",
    "my_text_full: str = get_gutenberg_book(84)\n",
    "my_text: str = my_text_full[10000:11000]\n",
    "print(my_text)"
   ]
  },
  {
   "cell_type": "code",
   "execution_count": 7,
   "metadata": {},
   "outputs": [
    {
     "name": "stdout",
     "output_type": "stream",
     "text": [
      "len(char_vocab) = 27, len(text_char_tokenized) = 1000\n"
     ]
    }
   ],
   "source": [
    "# tokenization with character-level vocabulary\n",
    "char_vocab: list[str] = list(' abcdefghijklmnopqrstuvwxyz')\n",
    "text_char_tokenized: list[int] = [\n",
    "\tchar_vocab.index(c) if c in char_vocab else 0 # unknown token becomes a space\n",
    "\tfor c in my_text\n",
    "]\n",
    "print(f\"{len(char_vocab) = }, {len(text_char_tokenized) = }\")"
   ]
  },
  {
   "cell_type": "code",
   "execution_count": 8,
   "metadata": {},
   "outputs": [
    {
     "name": "stdout",
     "output_type": "stream",
     "text": [
      "len(word_vocab) = 104, len(text_word_tokenized) = 166\n"
     ]
    }
   ],
   "source": [
    "# tokenization with word-level vocabulary\n",
    "word_vocab: list[str] = ['<unk>'] + list(set(''.join([\n",
    "\tc for c in my_text.lower()\n",
    "\tif c in char_vocab\n",
    "]).split()))\n",
    "text_word_tokenized: list[int] = [\n",
    "\tword_vocab.index(w) if w in word_vocab else 0 # unknown token becomes <unk>\n",
    "\tfor w in my_text.lower().split()\n",
    "]\n",
    "print(f\"{len(word_vocab) = }, {len(text_word_tokenized) = }\")"
   ]
  },
  {
   "cell_type": "markdown",
   "metadata": {},
   "source": [
    "now, in reality these tokenizers are kind of lame:\n",
    "\n",
    "- character encoding gives us a small vocabulary, but massive sequence length\n",
    "- word encoding does not perfectly reconstruct the original text\n",
    "- word encoding fails when we see a word we haven't seen before!\n",
    "- all of these fail for languages in non-latin scripts"
   ]
  },
  {
   "cell_type": "code",
   "execution_count": 11,
   "metadata": {},
   "outputs": [
    {
     "name": "stdout",
     "output_type": "stream",
     "text": [
      "tokenizer.vocab_size = 50257, len(text_bpe_tokenized) = 240\n"
     ]
    }
   ],
   "source": [
    "# but really, we just use a byte-pair encoding (BPE) tokenizer\n",
    "tokenizer = transformers.AutoTokenizer.from_pretrained(\"gpt2\")\n",
    "text_bpe_tokenized: list[int] = tokenizer.encode(my_text)\n",
    "print(f\"{tokenizer.vocab_size = }, {len(text_bpe_tokenized) = }\")"
   ]
  },
  {
   "cell_type": "code",
   "execution_count": 13,
   "metadata": {},
   "outputs": [
    {
     "name": "stdout",
     "output_type": "stream",
     "text": [
      "vocab_len_sorted[:20] = ['!', '\"', '#', '$', '%', '&', \"'\", '(', ')', '*', '+', ',', '-', '.', '/', '0', '1', '2', '3', '4']\n",
      "vocab_len_sorted[-20:] = ['................................', '================================', '________________________________', '********************************', 'ÃÂÃÂÃÂÃÂÃÂÃÂÃÂÃÂÃÂÃÂÃÂÃÂÃÂÃÂÃÂÃÂ', '################################', 'rawdownloadcloneembedreportprint', '////////////////////////////////', ' --------------------------------', ' ********************************', ' =================================', '------------------------------------------------', '--------------------------------------------------------', '----------------------------------------------------------------', '................................................................', '================================================================', '________________________________________________________________', 'ÃÂÃÂÃÂÃÂÃÂÃÂÃÂÃÂÃÂÃÂÃÂÃÂÃÂÃÂÃÂÃÂÃÂÃÂÃÂÃÂÃÂÃÂÃÂÃÂÃÂÃÂÃÂÃÂÃÂÃÂÃÂÃÂ', ' ----------------------------------------------------------------', ' =================================================================']\n",
      "np.random.choice(vocab_arr, 20) = array([' wear', 'aters', ' Perry', ' willfully', ' Ar', '�', ' guesses',\n",
      "       'OURCE', ' oranges', 'Starting', ' killed', ' Hindus', 'Jews',\n",
      "       ' hired', 'vious', ' VII', ' winds', ' Implementation',\n",
      "       'ettlement', ' Especially'], dtype='<U66')\n",
      "len(vocab_len_sorted[-1]) = 66\n",
      "vocab_size = 8705\n",
      "vocab_freq.most_common(10) = [('Ċ', 12730), (',', 4955), ('Ġthe', 3693), ('.', 2903), ('Ġand', 2759), ('ĠI', 2621), ('Ġof', 2518), ('Ġto', 2007), ('Ġmy', 1581), ('Ġa', 1301)]\n",
      "vocab_freq.most_common()[-10:] = [('STE', 1), ('IN', 1), ('ĠOR', 1), ('ĠMOD', 1), ('ERN', 1), ('ĠPR', 1), ('OM', 1), ('ET', 1), ('HE', 1), ('US', 1)]\n",
      "vocab_length_sorted[:10] = ['Ċ', ';', ',', ')', '_', '.', 'b', 'I', 'P', '?']\n",
      "vocab_length_sorted[-10:] = ['Ġdisappointment', 'Ġconsiderations', 'Ġdiscrimination', 'Ġcorrespondence', 'Ġaccomplishment', 'Ġinterpretation', 'Ġdistinguishing', 'Ġnotwithstanding', 'Ġaccomplishments', 'Ġrepresentations']\n"
     ]
    },
    {
     "data": {
      "image/png": "[encoded data removed]",
      "text/plain": [
       "<Figure size 1000x500 with 1 Axes>"
      ]
     },
     "metadata": {},
     "output_type": "display_data"
    },
    {
     "data": {
      "image/png": "[encoded data removed]",
      "text/plain": [
       "<Figure size 1000x500 with 1 Axes>"
      ]
     },
     "metadata": {},
     "output_type": "display_data"
    }
   ],
   "source": [
    "# what's in this tokenizer?\n",
    "vocab_arr = [\n",
    "\ttokenizer.decode([i]) for i in range(tokenizer.vocab_size)\n",
    "]\n",
    "vocab_len_sorted = sorted(vocab_arr, key=len)\n",
    "print(f\"{vocab_len_sorted[:20] = }\")\n",
    "print(f\"{vocab_len_sorted[-20:] = }\")\n",
    "# randomly sample tokens from the vocab\n",
    "print(f\"{np.random.choice(vocab_arr, 20) = }\")\n",
    "print(f\"{len(vocab_len_sorted[-1]) = }\")\n",
    "\n",
    "# let's look at the distribution of token lengths\n",
    "_ = analyze_vocab(tokenizer.tokenize(my_text_full), vocab_arr, bins_length=len(vocab_len_sorted[-1]))"
   ]
  },
  {
   "cell_type": "markdown",
   "metadata": {},
   "source": [
    "### Rule of thumb for tokenization\n",
    "\n",
    "with most commonly used LLM tokenizers, each token works out to about 0.7 words of english text:"
   ]
  },
  {
   "cell_type": "code",
   "execution_count": 11,
   "metadata": {},
   "outputs": [
    {
     "name": "stdout",
     "output_type": "stream",
     "text": [
      "len(text_word_tokenized) / len(text_bpe_tokenized) = 0.6916666666666667\n"
     ]
    }
   ],
   "source": [
    "print(f\"{len(text_word_tokenized) / len(text_bpe_tokenized) = }\")"
   ]
  },
  {
   "cell_type": "markdown",
   "metadata": {},
   "source": [
    "## Markov Chains\n",
    "\n",
    "for a vocabulary of size $d_V$, a markov chain is a matrix $M \\in \\mathbb{R}^{d_V \\times d_V}$ where $M_{i,j}$ is the probability of transitioning from word $i$ to word $j$.\n",
    "\n",
    "- the rows of $M$ sum to 1: $$ \\sum_j M_{i,j} = 1 $$\n",
    "- when initially creating the matrix, we start with $M_{i,j} = 0$ and add 1 to $M_{i,j}$ every time we see the word $i$ followed by the word $j$ in the training data (and then normalize the rows)\n",
    "\n",
    "In other words, a markov chain gives us the probability of seeing any *pair* of words. Hence, a bigram."
   ]
  },
  {
   "cell_type": "markdown",
   "metadata": {},
   "source": [
    "## $n$-grams\n",
    "\n",
    "\n",
    "We can extend this to an $n$-gram, by looking for how many times we see each sequence of $n$ words in the training data. For example, for $n=3$ (a *trigram*), we might count how many times we see the sequence of words \"the cat sat\" in the training data.\n",
    "\n",
    "This means our $n$ gram requires a chain of dimension $d_V^n$ -- wildly impractical if we want to have more than a few words in our sequence."
   ]
  },
  {
   "cell_type": "markdown",
   "metadata": {},
   "source": [
    "## RNNs\n",
    "\n",
    "$n$ grams end up having way too many parameters. We can try to get around this by taking a page from what we did with CNNs: we can *share* parameters across the sequence:\n",
    "\n",
    "If we want an RNN which takes $n_c$ (`n_context`) tokens as input and produces a distribution over $d_V$ (`d_vocab`)\n",
    "\n",
    "$$ \\texttt{RNN} : \\mathbb{R}^{n_c \\times d_V} \\to \\mathbb{R}^{d_V} $$\n",
    "\n",
    "\n",
    "we need a few things:\n",
    "\n",
    "- define a \"model\" or \"hidden\" dimension $d_m$\n",
    "- an *embedding* map $E : \\R^{d_V} \\to \\R^{d_m}$ which takes a one-hot vector and produces a dense vector.\n",
    "\t- we also want its pair the *de-embedding* map, which we will term $E^{-1} : \\R^{d_m} \\to \\R^{d_V}$ (although it's obviously not actually an inverse)\n",
    "\t- in the context of autoregressive language models, we hit the output of $E^{-1}$ with a softmax to get a distribution over the vocabulary\n",
    "- a *recurrent* map $h : \\R^{d_m} \\times \\R^{d_m} \\to \\R^{d_m}$ which takes the previous hidden state and the current input and produces the next hidden state\n",
    "\t- there are a couple different possible topologies here, and the hidden map can be a variety of things, but we will assume it's a dense neural net of some kind\n",
    "\n",
    "\n",
    "Putting this together, we get:\n",
    "\n",
    "$$\n",
    "\tx_{t+1} \\sim \\texttt{RNN}([x_{t-n_c}, \\ldots, x_{t}]) = E^{-1} \\left(q_t\\right)\n",
    "\t\\qquad\n",
    "\tq_t = h \\left(\n",
    "\t\t\\begin{matrix}\n",
    "\t\t\tE(x_{t}) \\\\\n",
    "\t\t\tq_{t-1}\n",
    "\t\t\\end{matrix}\n",
    "\t\\right)\n",
    "$$"
   ]
  },
  {
   "cell_type": "code",
   "execution_count": 20,
   "metadata": {},
   "outputs": [
    {
     "data": {
      "text/html": [
       "<img src=\"https://mermaid.ink/img/CmdyYXBoIExSCgl4dChbInhbdF0iXSkgLS0+IEV0W1tFXV0KCUV0IC0tPiBoCglxdG0xKFsicVt0LTFdIl0pIC0tPiBoW1toXV0KCWggLS0+IHF0KFsicVt0XSJdKQoJcXQgLS0+IEVpbnZbW0VfaW52XV0KCUVpbnYgLS0+IHhrKFsieFt0KzFdIl0pCiAgICBwcmV2KCgoLi4uKSkpIC0tPiBxdG0xCiAgICBxdCAtLT4gbmV4dCgoKC4uLikpKQo=\"/>"
      ],
      "text/plain": [
       "<IPython.core.display.Image object>"
      ]
     },
     "metadata": {},
     "output_type": "display_data"
    }
   ],
   "source": [
    "mm(\"\"\"\n",
    "graph LR\n",
    "\txt([\"x[t]\"]) --> Et[[E]]\n",
    "\tEt --> h\n",
    "\tqtm1([\"q[t-1]\"]) --> h[[h]]\n",
    "\th --> qt([\"q[t]\"])\n",
    "\tqt --> Einv[[E_inv]]\n",
    "\tEinv --> xk([\"x[t+1]\"])\n",
    "    prev(((...))) --> qtm1\n",
    "    qt --> next(((...)))\n",
    "\"\"\")"
   ]
  },
  {
   "cell_type": "markdown",
   "metadata": {},
   "source": [
    "# Sparsity, ~~and your homework!~~\n",
    "\n",
    "\n",
    "we saw that for a vocab size of $\\approx 5 \\cdot 10^3$, a bigram model has $2.5 \\cdot 10^7$ parameters, which is definitely manageable to keep on a modern computer -- but maybe a bit much for autocomplete on your phone.\n",
    "\n",
    "\n",
    "We also noted, however, that the markov chain is *extremely sparse*.\n",
    "\n",
    "\n",
    "~~Your homework 1 is as follows:~~\n",
    "\n",
    "1. train a markov chain on a large text corpus, but using the gpt-2 tokenizer\n",
    "2. investigate the sparsity of the resulting matrix in a more rigorous way than just the eyeball norm:\n",
    "\t- plot histograms of the weights\n",
    "\t- try to find the rank\n",
    "\t- take the SVD, and plot the singular values\n",
    "\t- other matrix decompositions or measures?\n",
    "3. do some kind of investigation of your choice, and produce a legible juptyer notebook with your results. some possible questions might be:\n",
    "\t- can you *train* the sparse representation directly? (maybe use pytorch autodiff?)\n",
    "\t- are there any interesting clusters in the matrix? (hint: PCA, k-means, t-SNE, etc)\n",
    "\t- can you come up with sparse representations of trigrams? $n$-grams?\n",
    "\t- how do the results change if you use a different tokenizer? (i.e. our original word-based one)\n",
    "\n",
    "Some guidelines:\n",
    "- feel free to discuss in groups, but everyone should submit their own notebook\n",
    "- use any code from notebooks or the internet, but cite your sources\n",
    "- use chatGPT -- but you should be able to explain what is happening, and document the prompts you used!\n",
    "- it's ok if what you tried doesn't work -- show me your code, make it understandable, and explain what you learned!\n"
   ]
  },
  {
   "cell_type": "markdown",
   "metadata": {},
   "source": [
    "# Attention\n",
    "\n",
    "So:\n",
    "- dense networks fail because they re-learn the same thing at every position\n",
    "- convolutional networks give the *spatial* prior to our networks, great for images\n",
    "- RNNs give the *temporal* prior to our networks, great for sequences -- but they decay over time\n",
    "\n",
    "When we actually process language, we care about more than just *local* relationships of this sort:\n",
    "\n",
    "![](https://upload.wikimedia.org/wikipedia/commons/8/8c/Parse2.jpg)\n",
    "\n",
    "Many scientists tried for a very long time to try to encode parse trees in machines, but using human knowledge ended up being far less effective than letting the machines pick it up themselves.\n",
    "\n",
    "The key insight of transformers and modern large language models is the *attention mechanism:*\n",
    "\n",
    "> Given some sequence of inputs $[x_1, \\ldots, x_n]$, when trying to predict the next token $x_{n+1}$, long range dependencies can be captured by letting a network choose which previous tokens to pay *attention* to.\n"
   ]
  },
  {
   "cell_type": "markdown",
   "metadata": {},
   "source": [
    "> note on notation: we're now switching to $x_i$ being already embedded vectors in $\\R^{d_m}$, rather than one-hot vectors in $\\R^{d_V}$\n",
    "\n",
    "The attention mechanism is a map $\\mathbb{A} : \\R^{d_m} \\times (\\R^{d_m})^{n_c} \\to \\R^{d_m}$ which takes a *query* $x_q$ and a *key* $x_k$ and produces a weighted sum of the values. We first consider the computation of scalar attention $A_s: \\R^{d_m} \\times \\R^{d_m} \\to \\R$ for some head $s$.\n",
    "\n",
    "$$ A_s(x_q, x_k) = \\sigma \\left( c \\cdot x_q Q_s (x_k K_s)^T \\right) $$\n",
    "\n",
    "What are all these symbols? Firstly, we define $d_h$: the *head dimension*. We usually pick a number of heads `n_heads` and set $d_h = d_m / n_h$. Think of each head as a separate attention mechanism, kind of like different kernels in a convolutional layer.\n",
    "\n",
    "- $c$ is a constant scalar, usually set to $\\frac{1}{\\sqrt{d_h}}$\n",
    "- $Q_s, K_s \\in \\R^{d_m \\times d_h}$ are learned linear maps - we have a different set of weights for each head\n",
    "- $\\sigma$ is the softmax function\n"
   ]
  },
  {
   "cell_type": "markdown",
   "metadata": {},
   "source": [
    "Now, once we have the scalar attention $A_s$, we can define the full attention map $A: \\R^{d_m} \\times \\R^{d_m} \\to \\R^{d_m}$ as follows:\n",
    "\n",
    "$$ \\mathbb{A}(x_q) = [ A_s(x_q, x_k) x_q V_s ]_{s \\in \\N_{n_h}} $$\n",
    "\n",
    "$$ = \\left[ \\sigma \\left( \\frac{1}{\\sqrt{d_h}} \\cdot x_q Q_s (x_k K_s)^T \\right) x_q V_s \\right]_{s \\in \\N_{n_h}} $$\n",
    "\n",
    "where $W^Q_i, W^K_i, W^V_i \\in \\R^{d_m \\times d_h}$ are learned linear maps, and $V_i \\in \\R^{d_m}$ are learned vectors.\n",
    "\n"
   ]
  },
  {
   "cell_type": "markdown",
   "metadata": {},
   "source": [
    "the softmax function is given by:\n",
    "\n",
    "$$\n",
    "\t[\\sigma (\\mathbf {z} )]_i\n",
    "\t= \\frac {\n",
    "\t\te^{z_i}\n",
    "\t}{\n",
    "\t\t\\sum _{j=1}^{K}e^{z_j}\n",
    "\t}\n",
    "$$"
   ]
  },
  {
   "cell_type": "markdown",
   "metadata": {},
   "source": []
  }
 ],
 "metadata": {
  "kernelspec": {
   "display_name": "Python 3",
   "language": "python",
   "name": "python3"
  },
  "language_info": {
   "codemirror_mode": {
    "name": "ipython",
    "version": 3
   },
   "file_extension": ".py",
   "mimetype": "text/x-python",
   "name": "python",
   "nbconvert_exporter": "python",
   "pygments_lexer": "ipython3",
   "version": "3.11.4"
  },
  "orig_nbformat": 4
 },
 "nbformat": 4,
 "nbformat_minor": 2
}
