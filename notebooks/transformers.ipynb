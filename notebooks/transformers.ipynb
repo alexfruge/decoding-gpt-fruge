{
 "cells": [
  {
   "cell_type": "markdown",
   "metadata": {},
   "source": [
    "# the Transformer Architecture\n",
    "\n",
    "most of the code here is a simplified version of [Karpathy's nanoGPT codebase](https://github.com/karpathy/nanoGPT/) -- check that out if you want to see a more practical implementation."
   ]
  },
  {
   "cell_type": "code",
   "execution_count": 2,
   "metadata": {},
   "outputs": [
    {
     "name": "stdout",
     "output_type": "stream",
     "text": [
      "f:\\Gdrive\\thesis\\decoding-gpt-public\\notebooks\n"
     ]
    }
   ],
   "source": [
    "import math\n",
    "from dataclasses import dataclass\n",
    "from collections import Counter\n",
    "\n",
    "import os\n",
    "print(os.getcwd())\n",
    "\n",
    "\n",
    "from IPython.display import Image, display\n",
    "import torch\n",
    "import torch.nn as nn\n",
    "import torch.nn.functional as F\n",
    "from torch.utils.data import DataLoader, Dataset\n",
    "from jaxtyping import Int, Float\n",
    "import matplotlib.pyplot as plt\n",
    "import tqdm\n",
    "import transformers\n",
    "import transformer_lens\n",
    "\n",
    "from utils.get_books import get_gutenberg_book, get_many_books\n",
    "from utils.mermaid import mm\n",
    "# from utils.analyze_vocab import analyze_vocab\n"
   ]
  },
  {
   "cell_type": "code",
   "execution_count": null,
   "metadata": {},
   "outputs": [],
   "source": [
    "# magic auto-reload for local development\n",
    "%load_ext autoreload\n",
    "%autoreload 2"
   ]
  },
  {
   "cell_type": "markdown",
   "metadata": {},
   "source": [
    "to install required packages:\n",
    "```\n",
    "pip install -r requirements.txt\n",
    "```"
   ]
  },
  {
   "cell_type": "markdown",
   "metadata": {},
   "source": [
    "# Review"
   ]
  },
  {
   "cell_type": "markdown",
   "metadata": {},
   "source": [
    "\n",
    "So:\n",
    "- dense networks fail because they re-learn the same thing at every position\n",
    "- convolutional networks give the *spatial* prior to our networks, great for images\n",
    "- RNNs give the *temporal* prior to our networks, great for sequences -- but they decay over time\n",
    "\n",
    "When we actually process language, we care about more than just *local* relationships of this sort:\n",
    "\n",
    "![](https://upload.wikimedia.org/wikipedia/commons/8/8c/Parse2.jpg)\n",
    "\n",
    "Many scientists tried for a very long time to try to encode parse trees in machines, but using human knowledge ended up being far less effective than letting the machines pick it up themselves.\n",
    "\n",
    "The key insight of transformers and modern large language models is the *attention mechanism:*\n",
    "\n",
    "> Given some sequence of inputs $[x_1, \\ldots, x_n]$, when trying to predict the next token $x_{n+1}$, long range dependencies can be captured by letting a network choose which previous tokens to pay *attention* to.\n"
   ]
  },
  {
   "cell_type": "markdown",
   "metadata": {},
   "source": [
    "> note on notation: we're now switching to $x_i$ being already embedded vectors in $\\R^{d_m}$, rather than one-hot vectors in $\\R^{d_V}$\n",
    "\n",
    "The attention mechanism is a map $\\mathbb{A} : \\R^{d_m} \\times (\\R^{d_m})^{n_c} \\to \\R^{d_m}$ which takes a *query* $x_q$ and a *key* $x_k$ and produces a weighted sum of the values. We first consider the computation of scalar attention $A_s: \\R^{d_m} \\times \\R^{d_m} \\to \\R$ for some head $s$.\n",
    "\n",
    "$$ A_s(x_q, x_k) = \\sigma \\left( c \\cdot x_q Q_s (x_k K_s)^T \\right) $$\n",
    "\n",
    "What are all these symbols? Firstly, we define $d_h$: the *head dimension*. We usually pick a number of heads `n_heads` and set $d_h = d_m / n_h$. Think of each head as a separate attention mechanism, kind of like different kernels in a convolutional layer.\n",
    "\n",
    "- $c$ is a constant scalar, usually set to $\\frac{1}{\\sqrt{d_h}}$\n",
    "- $Q_s, K_s \\in \\R^{d_m \\times d_h}$ are learned linear maps - we have a different set of weights for each head\n",
    "- $\\sigma$ is the softmax function\n"
   ]
  },
  {
   "cell_type": "markdown",
   "metadata": {},
   "source": [
    "Now, once we have the scalar attention $A_s$, we can define the full attention map $A: \\R^{d_m} \\times \\R^{d_m} \\to \\R^{d_m}$ as follows:\n",
    "\n",
    "$$ \\mathbb{A}(x_q) = [ A_s(x_q, x_k) x_q V_s ]_{s \\in \\N_{n_h}} $$\n",
    "\n",
    "$$ = \\left[ \\sigma \\left( \\frac{1}{\\sqrt{d_h}} \\cdot x_q Q_s (x_k K_s)^T \\right) x_q V_s \\right]_{s \\in \\N_{n_h}} $$\n",
    "\n",
    "where $W^Q_i, W^K_i, W^V_i \\in \\R^{d_m \\times d_h}$ are learned linear maps, and $V_i \\in \\R^{d_m}$ are learned vectors.\n",
    "\n"
   ]
  },
  {
   "cell_type": "markdown",
   "metadata": {},
   "source": [
    "# Setting up configuration\n",
    "\n",
    "- `d_model` $= d_m$\n",
    "- `d_vocab` $= d_v$\n",
    "- `n_context` $= n_c$\n",
    "- `n_layer` $= n_L$\n",
    "- `n_head` $= n_h$\n",
    "- `d_head` $= d_h = \\frac{d_m}{n_h}$"
   ]
  },
  {
   "cell_type": "code",
   "execution_count": null,
   "metadata": {},
   "outputs": [],
   "source": [
    "@dataclass(kw_only=True)\n",
    "class GPTConfig:\n",
    "    \"\"\"defaults are the gpt-2 model\"\"\"\n",
    "    d_model: int = 768\n",
    "    d_vocab: int = 50257\n",
    "    n_context: int = 1024\n",
    "    n_layer: int = 12\n",
    "    n_head: int = 12\n",
    "    head_bias: bool = True\n",
    "    mlp_expansion: int = 4\n",
    "\n",
    "    @property\n",
    "    def d_head(self):\n",
    "        assert self.d_model % self.n_head == 0, f\"'{self.d_model = }' must be divisible by '{self.n_head = }': {self.d_model} % {self.n_head} == {self.d_model % self.n_head}\"\n",
    "        return self.d_model // self.n_head\n",
    "    \n",
    "    @property\n",
    "    def params_shapes(self) -> dict:\n",
    "        return dict(\n",
    "            token_embeddings=(self.d_vocab, self.d_model),\n",
    "            positional_embeddings=(self.n_context, self.d_model),\n",
    "            attention_weights=(\n",
    "                self.n_layer,\n",
    "                4,\n",
    "                self.d_model,\n",
    "                self.d_model,\n",
    "            ),\n",
    "            attention_bias=(\n",
    "                self.n_layer,\n",
    "                int(self.head_bias),\n",
    "                self.d_model,\n",
    "            ),\n",
    "            mlp_weights=(\n",
    "                self.n_layer,\n",
    "                2,\n",
    "                self.d_model,\n",
    "                self.d_model * self.mlp_expansion,\n",
    "            ),\n",
    "            mlp_bias=(\n",
    "                self.n_layer,\n",
    "                self.mlp_expansion + 1,\n",
    "                self.d_model,\n",
    "            ),\n",
    "            block_layernorms=(\n",
    "                self.n_layer,\n",
    "                2,\n",
    "                2,\n",
    "                self.d_model,\n",
    "            ),\n",
    "            output_layernorm=(2, self.d_model),\n",
    "            lm_head=(self.d_model, self.d_vocab),\n",
    "        )\n",
    "    \n",
    "    @property\n",
    "    def params_numel(self) -> dict:\n",
    "        return {\n",
    "            k: int(torch.tensor(v).prod())\n",
    "            for k, v in self.params_shapes.items()\n",
    "        }\n",
    "\n",
    "    @property\n",
    "    def n_params(self) -> int:\n",
    "        return sum([v for v in self.params_numel.values()])\n"
   ]
  },
  {
   "cell_type": "code",
   "execution_count": null,
   "metadata": {},
   "outputs": [],
   "source": [
    "GPTConfig().params_shapes"
   ]
  },
  {
   "cell_type": "markdown",
   "metadata": {},
   "source": [
    "# Attention Heads"
   ]
  },
  {
   "cell_type": "markdown",
   "metadata": {},
   "source": [
    "I kind of lied to you earlier about the attention heads -- they don't actually operate over a pair of vectors, since the softmax gets applied over all items for that key.\n",
    "\n",
    "Additionally, we implement *causal masking* by adding a matrix of $-\\infty$.\n",
    "\n",
    "\n",
    "Given some input $x \\in \\R^{n_c \\times d_m}$, we can express our attention head $\\mathbb{A}(x): \\R^{n_c \\times d_m} \\to \\R^{n_c \\times d_h}$ as:\n",
    "\n",
    "\n",
    "$$\n",
    "\t\\mathbb{A}(x) := \\left( \\frac{\\texttt{softmax}(x W_Q (x W_K)^T)}{\\sqrt{d_h}} + M \\right) x W_V\n",
    "$$\n",
    "\n",
    "Where $M$ is a causal mask, and\n",
    "\n",
    "$$ \n",
    "\t[M]_{i,j} = \\begin{cases} \n",
    "\t\t0 & i \\geq j \\\\\n",
    "\t\t-\\infty & i < j \\\\\n",
    "\t\\end{cases}\n",
    "$$\n",
    "\n",
    "\n"
   ]
  },
  {
   "cell_type": "code",
   "execution_count": null,
   "metadata": {},
   "outputs": [],
   "source": [
    "class AttentionHead(nn.Module):\n",
    "\n",
    "    def __init__(self, config: GPTConfig):\n",
    "        super().__init__()\n",
    "\n",
    "        # store dimensions\n",
    "        self.n_head: int = config.n_head\n",
    "        self.d_model: int = config.d_model\n",
    "        self.n_context: int = config.n_context\n",
    "        self.head_bias: bool = config.head_bias\n",
    "\n",
    "        # concatenating the outputs of the heads should give us d_model, but this check is done in GPTConfig\n",
    "        self.d_head: int = config.d_head\n",
    "\n",
    "        # coefficient for scaling the dot product of the query and key in the attention calculation\n",
    "        self.sqrt_dim: float = 1.0 / math.sqrt(self.d_head)\n",
    "\n",
    "        # key, query, value projections\n",
    "        self.W_K: nn.Module = nn.Linear(self.d_model, self.d_head, bias=self.head_bias)\n",
    "        self.W_Q: nn.Module = nn.Linear(self.d_model, self.d_head, bias=self.head_bias)\n",
    "        self.W_V: nn.Module = nn.Linear(self.d_model, self.d_head, bias=self.head_bias)\n",
    "\n",
    "        # causal mask to ensure that attention is only applied to the left in the input sequence\n",
    "        # `register_buffer` means it's not a trainable parameter\n",
    "        self.register_buffer(\n",
    "            \"causal_mask\", \n",
    "            torch.tril(\n",
    "                torch.ones(config.n_context, config.n_context)\n",
    "            )\n",
    "            .view(1, 1, config.n_context, config.n_context)\n",
    "        )\n",
    "\n",
    "    def forward(self, x: Float[torch.Tensor, \"batch n_ctx d_model\"]) -> Float[torch.Tensor, \"batch n_ctx d_head\"]:\n",
    "        assert x.ndim == 3, str(x.shape)\n",
    "        B, n_ctx, d_model = x.shape # batch size, sequence length, embedding dimensionality (d_model)\n",
    "        assert d_model == self.d_model, str(x.shape)\n",
    "        # assert n_ctx == self.n_context, str(x.shape)\n",
    "\n",
    "        # calculate query, key, values for all heads in batch and move head forward to be the batch dim\n",
    "        q: Float[torch.Tensor, \"batch n_ctx d_head\"] = self.W_Q(x)\n",
    "        k: Float[torch.Tensor, \"batch n_ctx d_head\"] = self.W_K(x)\n",
    "        v: Float[torch.Tensor, \"batch n_ctx d_head\"] = self.W_V(x)\n",
    "\n",
    "        # self-attention\n",
    "        # (B, n_ctx, d_h) x (B, d_h, n_ctx) -> (B, n_ctx, n_ctx)\n",
    "        att = (q @ k.transpose(-2, -1)) * self.sqrt_dim\n",
    "        \n",
    "        # autoregressive (causal) masking\n",
    "        att = att.masked_fill(\n",
    "            self.causal_mask[:,:n_ctx,:n_ctx] == 0, \n",
    "            float('-inf'),\n",
    "        )\n",
    "\n",
    "        # softmax\n",
    "        att = F.softmax(att, dim=-1)\n",
    "\n",
    "        # apply the self-attention to the values\n",
    "        # (B, n_ctx, n_ctx) x (B, n_ctx, d_h) -> (B, n_ctx, d_h)\n",
    "        output = att @ v\n",
    "        return output.view(B, n_ctx, self.d_head)\n",
    "\n"
   ]
  },
  {
   "cell_type": "markdown",
   "metadata": {},
   "source": [
    "now, you might notice that we also add another dimension `B` -- this is the *batch dimension*, and speeds things up a lot when we want to compute gradients over a set of samples. PyTorch broadcasts all operations over that batch dimension, so all the calculations are equivalent.\n",
    "\n",
    "Let's check to see if the dimensions are correct:"
   ]
  },
  {
   "cell_type": "code",
   "execution_count": null,
   "metadata": {},
   "outputs": [],
   "source": [
    "cfg: GPTConfig = GPTConfig(\n",
    "\tn_context=128,\n",
    "\td_model=64,\n",
    "\tn_head=4,\n",
    ")\n",
    "A: AttentionHead = AttentionHead(cfg)\n",
    "print(A)\n",
    "\n",
    "x = torch.randn(1, cfg.n_context, cfg.d_model)\n",
    "print(f\"{cfg.d_head = }\")\n",
    "print(f\"{x.shape = }\")\n",
    "print(f\"{A(x).shape = }\")"
   ]
  },
  {
   "cell_type": "markdown",
   "metadata": {},
   "source": [
    "does that look correct?\n",
    "\n",
    "\n",
    "Now, let's take a look at that causal mask $M$, referred to as `causal_mask` in the code. You'll note that when we define it, it's actually a matrix of $\\{0, 1\\}$ and not $\\{-\\infty, 0\\}$. However, in the `.forward()` function, we use `masked_fill` to set the elements of `attn` to $-\\infty$ where $M$ is 0."
   ]
  },
  {
   "cell_type": "code",
   "execution_count": null,
   "metadata": {},
   "outputs": [],
   "source": [
    "plt.matshow(A.causal_mask[0, 0].cpu().numpy())\n",
    "plt.colorbar()\n",
    "plt.show()"
   ]
  },
  {
   "cell_type": "markdown",
   "metadata": {},
   "source": [
    "# Multi-headed attention"
   ]
  },
  {
   "cell_type": "markdown",
   "metadata": {},
   "source": [
    "We can think of each attention head as learning some *concept* -- but we have many concepts we might need to learn, hence multiple attention heads. Let's call this function $\\text{MHA}(x) : \\R^{n_c \\times d_m} \\to \\R^{n_c \\times d_m}$. Given attention heads $[\\mathbb{A}_1, \\ldots, \\mathbb{A}_{n_h}]$, we compute `MHA` as:\n",
    "\n",
    "\n",
    "$$\n",
    "\t\\texttt{MHA}(x) = \\left[\\begin{array}{c} \n",
    "\t\t\\mathbb{A}_1(x) \\\\ \\hline\n",
    "\t\t\\mathbb{A}_2(x) \\\\ \\hline\n",
    "\t\t\\vdots \\\\ \\hline\n",
    "\t\t\\mathbb{A}_{n_h}(x)\n",
    "\t\\end{array}\\right]\n",
    "\t\\cdot [x W_O]\n",
    "$$\n",
    "\n",
    "Where $W_O \\in \\R^{d_m \\times d_m}$ is just another learned linear map.\n",
    "\n",
    "\n",
    "In our implementation, for readability and simplicity, we compute the attention heads one by one and then concatenate them. This is really really inefficient -- in reality you would do this all in one matrix multiplication, but the indexing for that gets complicated."
   ]
  },
  {
   "cell_type": "code",
   "execution_count": null,
   "metadata": {},
   "outputs": [],
   "source": [
    "class MultiHeadedAttention(nn.Module):\n",
    "\tdef __init__(self, config: GPTConfig):\n",
    "\t\tsuper().__init__()\n",
    "\t\tself.n_head: int = config.n_head\n",
    "\t\tself.d_head: int = config.d_model // config.n_head\n",
    "\t\tself.d_model: int = config.d_model\n",
    "\t\tself.head_bias: bool = config.head_bias\n",
    "\n",
    "\t\t# attention heads\n",
    "\t\tself.attention_heads: nn.ModuleList = nn.ModuleList([\n",
    "\t\t\tAttentionHead(config) \n",
    "\t\t\tfor _ in range(self.n_head)\n",
    "\t\t])\n",
    "\n",
    "\t\t# output projection\n",
    "\t\tself.W_O: nn.Module = nn.Linear(self.d_model, self.d_model, bias=self.head_bias)\n",
    "\n",
    "\n",
    "\tdef forward(self, x: Float[torch.Tensor, \"batch n_ctx d_model\"]) -> Float[torch.Tensor, \"batch n_ctx d_model\"]:\n",
    "\t\tassert x.ndim == 3, str(x.shape)\n",
    "\t\t# apply all attention heads and concatenate their outputs\n",
    "\t\t# note: in reality, you would do this all in one tensor\n",
    "\t\t# we split the attention heads up to make it easier to understand\n",
    "\t\tatt = torch.cat(\n",
    "\t\t\t[\n",
    "\t\t\t\thead(x) \n",
    "\t\t\t\tfor head in self.attention_heads\n",
    "\t\t\t],\n",
    "\t\t\tdim=-1,\n",
    "\t\t)\n",
    "\t\tassert len(att.shape) == 3, str(att.shape)\n",
    "\n",
    "\t\t# output projection\n",
    "\t\t# (B, n_ctx, d_head * n_head) -> (B, n_ctx, d_model)\n",
    "\t\toutput = self.W_O(att)\n",
    "\t\tassert output.shape == x.shape, str(output.shape)\n",
    "\t\treturn output\n"
   ]
  },
  {
   "cell_type": "markdown",
   "metadata": {},
   "source": [
    "# Transformers"
   ]
  },
  {
   "cell_type": "markdown",
   "metadata": {},
   "source": [
    "![Figure 1: a Transformer](assets/transformers_robot.png)"
   ]
  },
  {
   "cell_type": "markdown",
   "metadata": {},
   "source": [
    "A transformer is made up of *Transformer Blocks*"
   ]
  },
  {
   "cell_type": "code",
   "execution_count": null,
   "metadata": {},
   "outputs": [],
   "source": [
    "\n",
    "mm(\"\"\"\n",
    "graph TD;\n",
    "subgraph TransformerBlock\n",
    "    x((x))\n",
    "    x --> ln_1\n",
    "\tln_1 --> MHA\n",
    "    z((z))\n",
    "\tMHA --> z\n",
    "    x --> z\n",
    "    z --> ln_2\n",
    "\tln_2 --> MLP\n",
    "\ty((y))\n",
    "   \tMLP --> y\n",
    "    z --> y\n",
    "end\n",
    "\"\"\")"
   ]
  },
  {
   "cell_type": "code",
   "execution_count": null,
   "metadata": {},
   "outputs": [],
   "source": [
    "class TransformerBlock(nn.Module):\n",
    "\tdef __init__(self, config: GPTConfig):\n",
    "\t\tsuper().__init__()\n",
    "\n",
    "\t\t# layernorm, attention, another layernorm, mlp\n",
    "\t\tself.ln_1: nn.Module = nn.LayerNorm(config.d_model)\n",
    "\t\tself.attention: nn.Module = MultiHeadedAttention(config)\n",
    "\t\tself.ln_2: nn.Module = nn.LayerNorm(config.d_model)\n",
    "\t\tself.mlp: nn.Module = nn.Sequential(\n",
    "\t\t\tnn.Linear(config.d_model, config.mlp_expansion * config.d_model),\n",
    "\t\t\tnn.GELU(),\n",
    "\t\t\tnn.Linear(config.mlp_expansion * config.d_model, config.d_model),\n",
    "\t\t)\n",
    "\n",
    "\tdef forward(self, x: Float[torch.Tensor, \"batch n_ctx d_model\"]) -> Float[torch.Tensor, \"batch n_ctx d_model\"]:\n",
    "\t\tz = x + self.attention(self.ln_1(x))\n",
    "\t\treturn z + self.mlp(self.ln_2(z))"
   ]
  },
  {
   "cell_type": "markdown",
   "metadata": {},
   "source": [
    "What's this `LayerNorm` thing?\n",
    "\n",
    "see: https://arxiv.org/abs/1607.06450\n",
    "\n",
    "$$ \\texttt{LayerNorm}(x) = \\frac{x - \\mathrm{E}[x]}{ \\sqrt{\\mathrm{Var}[x] + \\epsilon}} * \\gamma + \\beta $$"
   ]
  },
  {
   "cell_type": "markdown",
   "metadata": {},
   "source": [
    "Now, finally, for the GPT itself!"
   ]
  },
  {
   "cell_type": "code",
   "execution_count": null,
   "metadata": {},
   "outputs": [],
   "source": [
    "mm(\"\"\"\n",
    "graph TD;\n",
    "subgraph GPT\n",
    "    prompt((prompt))\n",
    "    wte[\\Token Embedding/]\n",
    "\twpe{{Positional Encoding}}\n",
    "    TB1[[TransformerBlock_1]]\n",
    "    TB2[[TransformerBlock_2]]\n",
    "\tTB_dots{...}\n",
    "    TBnL[[TransformerBlock_n_L]]\n",
    "    ln_f[[LayerNorm]]\n",
    "    lm_head[/De-Embedding\\]\n",
    "   \n",
    "    prompt --> wte\n",
    "    prompt --> wpe\n",
    "    wte --> TB1\n",
    "    wpe --> TB1\n",
    "    TB1 --> TB2\n",
    "    TB2 --> TB_dots\n",
    "    TB_dots --> TBnL\n",
    "    TBnL --> ln_f\n",
    "    ln_f --> lm_head\n",
    "end\n",
    "\"\"\")"
   ]
  },
  {
   "cell_type": "code",
   "execution_count": null,
   "metadata": {},
   "outputs": [],
   "source": [
    "class GPT(nn.Module):\n",
    "\tdef __init__(self, config: GPTConfig, tokenizer: transformers.PreTrainedTokenizer):\n",
    "\t\tsuper().__init__()\n",
    "\n",
    "\t\tself.config: GPTConfig = config\n",
    "\t\tself.tokenizer: transformers.PreTrainedTokenizer = tokenizer\n",
    "\t\tassert config.d_vocab >= tokenizer.vocab_size\n",
    "\n",
    "\t\t# token and positional embeddings\n",
    "\t\tself.token_embeddings: nn.Module = nn.Embedding(config.d_vocab, config.d_model)\n",
    "\t\tself.positional_embeddings: nn.Module = nn.Embedding(config.n_context, config.d_model)\n",
    "\n",
    "\t\t# transformer\n",
    "\t\tself.transformer_blocks: nn.ModuleList = nn.ModuleList([\n",
    "\t\t\tTransformerBlock(config) \n",
    "\t\t\tfor _ in range(config.n_layer)\n",
    "\t\t])\n",
    "\n",
    "\t\t# language model head\n",
    "\t\tself.ln_f: nn.Module = nn.LayerNorm(config.d_model)\n",
    "\t\tself.lm_head: nn.Module = nn.Linear(config.d_model, config.d_vocab, bias=False)\n",
    "\n",
    "\tdef forward(\n",
    "\t\t\tself, \n",
    "\t\t\tx: Int[torch.Tensor, \"batch n_ctx\"],\n",
    "\t\t\ttargets: Int[torch.Tensor, \"batch n_ctx\"]|None = None,\n",
    "\t\t) -> tuple:\n",
    "\t\t\"\"\"returns a tuple of (logits, loss) where loss=None if targets is None\"\"\"\n",
    "\t\tassert x.ndim == 2, str(x.shape)\n",
    "\n",
    "\t\t# calculate token and positional embeddings and sum them\n",
    "\t\tx_res = (\n",
    "\t\t\tself.token_embeddings(x) \n",
    "\t\t\t+ self.positional_embeddings(torch.arange(x.size(1), device=x.device))\n",
    "\t\t)\n",
    "\n",
    "\t\tassert x_res.ndim == 3, str(x.shape)\n",
    "\n",
    "\t\t# transformer blocks\n",
    "\t\tfor i, block in enumerate(self.transformer_blocks):\n",
    "\t\t\tx_res = block(x_res)\n",
    "\n",
    "\t\t# language model head\n",
    "\t\tlogits: Float[torch.Tensor, \"batch n_ctx d_vocab\"] = self.lm_head(self.ln_f(x_res))\n",
    "\n",
    "\t\tloss = None\n",
    "\t\tif targets is not None:\n",
    "\t\t\tloss = F.cross_entropy(\n",
    "\t\t\t\tlogits.transpose(1, 2),\n",
    "\t\t\t\ttargets,\n",
    "\t\t\t\tignore_index=-1,\n",
    "\t\t\t)\n",
    "\n",
    "\t\treturn logits, loss\n",
    "\t\n",
    "\t@torch.no_grad()\n",
    "\tdef generate(\n",
    "\t\tself,\n",
    "\t\tprompt: str|list[int]|Int[torch.Tensor, \"* n_ctx\"],\n",
    "\t\tmax_new_tokens: int = 128,\n",
    "\t\ttemperature: float = 1.0,\n",
    "\t) -> str:\n",
    "\n",
    "\t\t# convert prompt to string and tensor versions\n",
    "\t\tprompt_str: str\n",
    "\t\tprompt_tensor: Int[torch.Tensor, \"1 n_ctx\"]\n",
    "\t\tif isinstance(prompt, str):\n",
    "\t\t\tprompt_str = prompt\n",
    "\t\t\tprompt_tensor = torch.tensor(self.tokenizer.encode(prompt_str), dtype=torch.long).unsqueeze(0) # add batch dim\n",
    "\t\telif isinstance(prompt, list):\n",
    "\t\t\tprompt_str = self.tokenizer.decode(prompt)\n",
    "\t\t\tprompt_tensor = torch.tensor(prompt, dtype=torch.long).unsqueeze(0) # add batch dim\n",
    "\t\telif isinstance(prompt, torch.Tensor):\n",
    "\t\t\tif prompt.ndim == 1:\n",
    "\t\t\t\tprompt = prompt.unsqueeze(0) # add batch dim\n",
    "\t\t\tassert prompt.ndim == 2\n",
    "\n",
    "\t\t\tprompt_str = self.tokenizer.decode(prompt[0].tolist())\n",
    "\t\t\tprompt_tensor = prompt\n",
    "\t\telse:\n",
    "\t\t\traise ValueError(f\"prompt must be a string, list of ints, or PyTorch tensor\")\n",
    "\t\t\n",
    "\t\t# check tensor dims\n",
    "\t\tassert isinstance(prompt_str, str) \n",
    "\t\tassert isinstance(prompt_tensor, torch.Tensor)\n",
    "\t\tassert prompt_tensor.ndim == 2 \n",
    "\t\tassert prompt_tensor.shape[0] == 1\n",
    "\n",
    "\t\t#  device\n",
    "\t\tprompt_tensor = prompt_tensor.to(self.device)\n",
    "\n",
    "\t\t# pad the prompt if necessary\n",
    "\t\tif prompt_tensor.shape[1] < self.config.n_context:\n",
    "\t\t\tprompt_tensor = F.pad(prompt_tensor, (0, self.config.n_context - prompt_tensor.shape[1]), value=self.tokenizer.pad_token_id)\n",
    "\n",
    "\t\tassert prompt_tensor.shape[1] == self.config.n_context\n",
    "\n",
    "\t\t# iterate until max_new_tokens is reached, or an end-of-sequence token is generated\n",
    "\t\tcompletions: list[int] = list()\n",
    "\t\tfor _ in range(max_new_tokens):\n",
    "\t\t\t# truncate sequence to block size\n",
    "\t\t\tprompt_len: int = prompt_tensor.shape[1]\n",
    "\t\t\tif prompt_len > self.config.n_context:\n",
    "\t\t\t\tprompt_tensor = prompt_tensor[:, -self.config.n_context:]\n",
    "\n",
    "\t\t\t# forward the model to get the logits for the index in the sequence\n",
    "\t\t\tlogits, _ = self(prompt_tensor)\n",
    "\n",
    "\t\t\t# pluck the logits at the final step and scale by desired temperature\n",
    "\t\t\tlogits = logits[:, -1, :] / temperature\n",
    "\n",
    "\t\t\t# apply softmax to convert logits to (normalized) probabilities\n",
    "\t\t\tprobs = F.softmax(logits, dim=-1)\n",
    "\n",
    "\t\t\t# sample from the distribution\n",
    "\t\t\tidx_next = torch.multinomial(probs, num_samples=1)\n",
    "\n",
    "\t\t\t# append sampled index to the running sequence and continue\n",
    "\t\t\tidx = torch.cat((prompt_tensor, idx_next), dim=1)\n",
    "\n",
    "\t\t\t# append the token to the running completions\n",
    "\t\t\tcompletions.append(int(idx_next[0, 0]))\n",
    "\n",
    "\t\t\t# check if end of sequence token is generated\n",
    "\t\t\tif idx_next == self.tokenizer.eos_token_id:\n",
    "\t\t\t\tbreak\n",
    "\n",
    "\t\treturn self.tokenizer.decode(completions)\n",
    "\n",
    "\t@property\n",
    "\tdef n_params(self) -> int:\n",
    "\t\treturn sum(p.numel() for p in self.parameters())\n",
    "\t\n",
    "\t@property\n",
    "\tdef device(self) -> torch.device:\n",
    "\t\tdevice_set: set[torch.device] = set(p.device for p in self.parameters())\n",
    "\t\tassert len(device_set) == 1, device_set\n",
    "\t\treturn next(iter(device_set))"
   ]
  },
  {
   "cell_type": "code",
   "execution_count": null,
   "metadata": {},
   "outputs": [],
   "source": [
    "test_cfg = GPTConfig()\n",
    "print(f\"{test_cfg.n_params = }\")\n",
    "test_model = GPT(test_cfg, transformers.GPT2Tokenizer.from_pretrained(\"gpt2\"))\n",
    "print(f\"{test_model.n_params = }\")\n",
    "\n",
    "print(test_model)"
   ]
  },
  {
   "cell_type": "code",
   "execution_count": null,
   "metadata": {},
   "outputs": [],
   "source": [
    "import json\n",
    "print(json.dumps({\n",
    "\tk: str(v.shape)\n",
    "\tfor k, v in test_model.named_parameters()\n",
    "}, indent=2))"
   ]
  },
  {
   "cell_type": "markdown",
   "metadata": {},
   "source": [
    "# Dataset"
   ]
  },
  {
   "cell_type": "code",
   "execution_count": null,
   "metadata": {},
   "outputs": [],
   "source": [
    "text_data: str = ' '.join(get_many_books([84, 15, 18, 82, 996, 2600]))"
   ]
  },
  {
   "cell_type": "code",
   "execution_count": null,
   "metadata": {},
   "outputs": [],
   "source": [
    "class TextDataset(Dataset):\n",
    "\tdef __init__(\n",
    "\t\t\tself, \n",
    "\t\t\ttext: str, \n",
    "\t\t\ttokenizer: transformers.PreTrainedTokenizer,\n",
    "\t\t\tn_context: int,\n",
    "\t\t\tensure_n_context_match: bool = True,\n",
    "\t\t):\n",
    "\t\t# tokenize the text\n",
    "\t\ttokenized_text: list[int] = tokenizer.encode(text)\n",
    "\t\tself.total_tokens: int = len(tokenized_text)\n",
    "\n",
    "\t\t# trim the last tokens to make sure the length is a multiple of n_context\n",
    "\t\tif ensure_n_context_match:\n",
    "\t\t\ttokenized_text = tokenized_text[:-(len(tokenized_text) % n_context)]\n",
    "\t\t\tself.total_tokens = len(tokenized_text)\n",
    "\n",
    "\t\t# split the text into examples of length n_context\n",
    "\t\t# this means that text will often start in the middle of a sentence\n",
    "\t\t# in reality, we might want to do this a bit smarter\n",
    "\t\tself.examples: list[list[int]] = [\n",
    "\t\t\ttokenized_text[i:i+n_context] \n",
    "\t\t\tfor i in range(0, len(tokenized_text), n_context)\n",
    "\t\t]\n",
    "\n",
    "\tdef __len__(self) -> int:\n",
    "\t\treturn len(self.examples)\n",
    "\t\n",
    "\tdef __getitem__(self, i: int) -> Float[torch.Tensor, \"n_ctx\"]:\n",
    "\t\treturn torch.tensor(self.examples[i], dtype=torch.long)\n",
    "\t\n",
    "\tdef example_lengths(self) -> Counter[int]:\n",
    "\t\treturn Counter(len(ex) for ex in self.examples)\n",
    "\t"
   ]
  },
  {
   "cell_type": "markdown",
   "metadata": {},
   "source": [
    "# Training Loop"
   ]
  },
  {
   "cell_type": "code",
   "execution_count": null,
   "metadata": {},
   "outputs": [],
   "source": [
    "def train(\n",
    "\tmodel: GPT,\n",
    "\ttext: str,\n",
    "\toptimizer: torch.optim.Optimizer,\n",
    "\tdevice: torch.device = (\"cuda\" if torch.cuda.is_available() else \"cpu\"),\n",
    "\tbatch_size: int = 8,\n",
    "\tmax_batches: int|None = None,\n",
    "\tprint_interval: int = 100,\n",
    "\tepochs: int = 1,\n",
    ") -> tuple[GPT, list[dict]]:\n",
    "\t\n",
    "\t# move model to device\n",
    "\tprint(f\"moving model to device: {device}\")\n",
    "\tmodel.to(device)\n",
    "\t\n",
    "\t# set up data\n",
    "\tprint(f\"setting up dataset from text of length {len(text)}\")\n",
    "\tdataset: TextDataset = TextDataset(\n",
    "\t\ttext=text, \n",
    "\t\ttokenizer=model.tokenizer, \n",
    "\t\tn_context=model.config.n_context,\n",
    "\t)\n",
    "\tprint(f\"\\tset up dataset with {len(dataset)} examples, example lengths: {dataset.example_lengths()}\")\n",
    "\n",
    "\tprint(f\"setting up dataloader from {len(dataset)} examples\")\n",
    "\tdataloader: DataLoader = DataLoader(\n",
    "\t\tdataset, \n",
    "\t\tbatch_size=batch_size, \n",
    "\t\tshuffle=True,\n",
    "\t)\n",
    "\tprint(f\"\\tset up dataloader with {len(dataloader)} batches of size {batch_size}\")\n",
    "\n",
    "\t# set up training loop\n",
    "\tprint(\"training...\")\n",
    "\ttraining_records: list[dict] = list()\n",
    "\tmodel.train()\n",
    "\n",
    "\tfor epoch in range(epochs):\n",
    "\t\tprint(f\"Epoch {epoch + 1}/{epochs}\\n\")\n",
    "\t\ti: int; batch: Float[torch.Tensor, \"batch n_ctx\"]\n",
    "\t\tfor i, batch in tqdm.tqdm(\n",
    "\t\t\tenumerate(dataloader),\n",
    "\t\t\ttotal=len(dataloader),\n",
    "\t\t\tdesc=\"Training\",\n",
    "\t\t):\n",
    "\t\t\t# move batch to device\n",
    "\t\t\tbatch = batch.to(device)\n",
    "\t\t\t\n",
    "\t\t\t# break if we've reached the maximum number of batches\n",
    "\t\t\tif max_batches is not None and i > max_batches:\n",
    "\t\t\t\tbreak\n",
    "\n",
    "\t\t\t# forward pass\n",
    "\t\t\tlogits, loss = model(\n",
    "\t\t\t\tbatch[:-1, :],\n",
    "\t\t\t\ttargets=batch[1:, :], # the targets are just the input, offset by one\n",
    "\t\t\t)\n",
    "\n",
    "\t\t\t# backward pass\n",
    "\t\t\toptimizer.zero_grad()\n",
    "\t\t\tloss.backward()\n",
    "\t\t\toptimizer.step()\n",
    "\n",
    "\t\t\t# record progress\n",
    "\t\t\ttraining_records.append({\n",
    "\t\t\t\t\"batch\": i,\n",
    "\t\t\t\t\"loss\": loss.item(),\n",
    "\t\t\t})\n",
    "\n",
    "\t\t\tif i % print_interval == 0:\n",
    "\t\t\t\tprint(f\"Batch {i}, Loss: {loss.item()}\\n\")\n",
    "\n",
    "\treturn model, training_records\n",
    "\n"
   ]
  },
  {
   "cell_type": "markdown",
   "metadata": {},
   "source": [
    "# running it all"
   ]
  },
  {
   "cell_type": "code",
   "execution_count": null,
   "metadata": {},
   "outputs": [],
   "source": [
    "# we want to ensure our vocab dimension is the same as the tokenizer's vocab size\n",
    "TOKENIZER: transformers.PreTrainedTokenizer = transformers.AutoTokenizer.from_pretrained(\"gpt2\")\n",
    "print(f\"{TOKENIZER.vocab_size = }\")\n",
    "\n",
    "print(f\"{TOKENIZER.eos_token = }, {TOKENIZER.eos_token_id = }\")\n",
    "\n",
    "# set up a config for a small model\n",
    "CONFIG: GPTConfig = GPTConfig(\n",
    "\td_model=128,\n",
    "\td_vocab=TOKENIZER.vocab_size,\n",
    "\tn_context=256,\n",
    "\tn_layer=4,\n",
    "\tn_head=2,\n",
    ")\n",
    "\n",
    "\n",
    "print(f\"{CONFIG.n_params = }\")"
   ]
  },
  {
   "cell_type": "code",
   "execution_count": null,
   "metadata": {},
   "outputs": [],
   "source": [
    "\n",
    "# initialize the model\n",
    "MODEL: GPT = GPT(CONFIG, TOKENIZER)\n",
    "print(f\"{MODEL.n_params = }\")\n",
    "\n",
    "# optimizer\n",
    "OPTIMIZER: torch.optim.Optimizer = torch.optim.AdamW(MODEL.parameters(), lr=1e-4)\n"
   ]
  },
  {
   "cell_type": "code",
   "execution_count": null,
   "metadata": {},
   "outputs": [],
   "source": [
    "MODEL_TRAINED, training_history = train(\n",
    "\tmodel=MODEL,\n",
    "\ttext=text_data,\n",
    "\toptimizer=OPTIMIZER,\n",
    "\tdevice=(\"cuda\" if torch.cuda.is_available() else \"cpu\"),\n",
    "\tbatch_size=32,\n",
    "\tmax_batches=None,\n",
    "\tprint_interval=100,\n",
    "\tepochs=5,\n",
    ")"
   ]
  },
  {
   "cell_type": "code",
   "execution_count": null,
   "metadata": {},
   "outputs": [],
   "source": [
    "torch.save(MODEL_TRAINED, \"model.pt\")"
   ]
  },
  {
   "cell_type": "code",
   "execution_count": null,
   "metadata": {},
   "outputs": [],
   "source": [
    "print(MODEL_TRAINED.generate(\"The \"))"
   ]
  },
  {
   "cell_type": "code",
   "execution_count": 5,
   "metadata": {},
   "outputs": [
    {
     "name": "stderr",
     "output_type": "stream",
     "text": [
      "Using pad_token, but it is not set yet.\n"
     ]
    },
    {
     "name": "stdout",
     "output_type": "stream",
     "text": [
      "Loaded pretrained model gpt2 into HookedTransformer\n"
     ]
    }
   ],
   "source": [
    "TOKENIZER = transformers.GPT2Tokenizer.from_pretrained(\"gpt2\")\n",
    "GPT2 = transformer_lens.HookedTransformer.from_pretrained(\"gpt2\")"
   ]
  },
  {
   "cell_type": "code",
   "execution_count": 11,
   "metadata": {},
   "outputs": [
    {
     "data": {
      "application/vnd.jupyter.widget-view+json": {
       "model_id": "9f9dec292db2450a9084a9a04d872c47",
       "version_major": 2,
       "version_minor": 0
      },
      "text/plain": [
       "  0%|          | 0/128 [00:00<?, ?it/s]"
      ]
     },
     "metadata": {},
     "output_type": "display_data"
    },
    {
     "name": "stdout",
     "output_type": "stream",
     "text": [
      "Below is a simple implementation of addition of two numbers in python:\n",
      "def add_numbers(x, y):\n",
      "\t = np.random.randint(x, y)\n",
      "julia = np.newarray([np.float32(lambda x: x + y) for x in np.lines(np.argmax(np.argmin(x, y)))]\n",
      "(the two numbers in equation 1 are the same as the one in equation 2.)\n",
      "To verify that the number added in equation 1 (in fact, I'd probably quite like to add two more numbers, but I'm not sure what they're for. I'm not sure how to calculate them, but I'd be very interested to see what people think\n"
     ]
    }
   ],
   "source": [
    "result = GPT2.generate(\n",
    "\ttorch.tensor(TOKENIZER.encode(\"Below is a simple implementation of addition of two numbers in python:\\ndef add_numbers(x, y):\\n\\t\"), dtype=torch.long).unsqueeze(0), \n",
    "\t# max_length=128, \n",
    "\ttemperature=0.7, \n",
    "\t# num_return_sequences=1,\n",
    "\tmax_new_tokens=128,\n",
    ")\n",
    "\n",
    "print(TOKENIZER.decode(result[0].tolist()))"
   ]
  },
  {
   "cell_type": "code",
   "execution_count": null,
   "metadata": {},
   "outputs": [],
   "source": [
    "print(GPT2)"
   ]
  },
  {
   "cell_type": "code",
   "execution_count": 13,
   "metadata": {},
   "outputs": [
    {
     "data": {
      "text/plain": [
       "<matplotlib.image.AxesImage at 0x21c422b0490>"
      ]
     },
     "execution_count": 13,
     "metadata": {},
     "output_type": "execute_result"
    },
    {
     "data": {
      "image/png": "[encoded data removed]",
      "text/plain": [
       "<Figure size 640x480 with 1 Axes>"
      ]
     },
     "metadata": {},
     "output_type": "display_data"
    }
   ],
   "source": [
    "plt.imshow(GPT2.W_E_pos.detach().cpu().numpy())"
   ]
  },
  {
   "cell_type": "code",
   "execution_count": 15,
   "metadata": {},
   "outputs": [
    {
     "data": {
      "image/png": "[encoded data removed]",
      "text/plain": [
       "<Figure size 640x480 with 1 Axes>"
      ]
     },
     "metadata": {},
     "output_type": "display_data"
    }
   ],
   "source": [
    "for i in range(10):\n",
    "\tplt.plot(GPT2.W_E_pos.detach().cpu().numpy()[i])"
   ]
  },
  {
   "cell_type": "code",
   "execution_count": null,
   "metadata": {},
   "outputs": [],
   "source": [
    "plt.matshow(GPT2.W_E.detach().cpu().numpy())"
   ]
  },
  {
   "cell_type": "code",
   "execution_count": null,
   "metadata": {},
   "outputs": [],
   "source": [
    "import numpy as np\n",
    "np.linalg.svd()"
   ]
  }
 ],
 "metadata": {
  "kernelspec": {
   "display_name": "Python 3",
   "language": "python",
   "name": "python3"
  },
  "language_info": {
   "codemirror_mode": {
    "name": "ipython",
    "version": 3
   },
   "file_extension": ".py",
   "mimetype": "text/x-python",
   "name": "python",
   "nbconvert_exporter": "python",
   "pygments_lexer": "ipython3",
   "version": "3.11.4"
  },
  "orig_nbformat": 4
 },
 "nbformat": 4,
 "nbformat_minor": 2
}
